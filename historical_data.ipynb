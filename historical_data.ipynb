{
 "cells": [
  {
   "cell_type": "code",
   "execution_count": 7,
   "metadata": {},
   "outputs": [
    {
     "name": "stdout",
     "output_type": "stream",
     "text": [
      "Data saved to historical_data.csv\n"
     ]
    }
   ],
   "source": [
    "import csv\n",
    "from auth import authenticate\n",
    "\n",
    "# Get authenticated smart_api and tokens from auth.py\n",
    "smart_api, auth_token, refresh_token, feed_token = authenticate()\n",
    "\n",
    "# Function to get historical candle data\n",
    "def get_historical_data():\n",
    "    try:\n",
    "        # Define the parameters\n",
    "        historic_param = {\n",
    "            \"exchange\": \"NSE\",\n",
    "            \"symboltoken\": \"3045\",\n",
    "            \"interval\": \"ONE_HOUR\",\n",
    "            \"fromdate\": \"2023-01-01 09:00\",\n",
    "            \"todate\": \"2023-10-01 15:00\"\n",
    "        }\n",
    "\n",
    "        # Make the API request to fetch historical data\n",
    "        response = smart_api.getCandleData(historic_param)\n",
    "\n",
    "        # Check if the request was successful\n",
    "        if response['status'] and response['message'] == 'SUCCESS':\n",
    "            historical_data = response['data']\n",
    "            return historical_data  # Return the historical data\n",
    "        else:\n",
    "            return None  # Return None if the request failed\n",
    "\n",
    "    except Exception as e:\n",
    "        print(\"Historic API failed:\", str(e))\n",
    "        return None\n",
    "\n",
    "# Call the function to fetch historical data\n",
    "historical_data = get_historical_data()\n",
    "\n",
    "# Check if historical data is available\n",
    "if historical_data is not None:\n",
    "    # Specify the CSV file path where you want to save the data\n",
    "    csv_file_path = 'historical_data.csv'\n",
    "\n",
    "    # Save the data to the CSV file\n",
    "    with open(csv_file_path, mode='w', newline='') as csv_file:\n",
    "        csv_writer = csv.writer(csv_file)\n",
    "        \n",
    "        # Write the header row\n",
    "        csv_writer.writerow(['Timestamp', 'Open', 'High', 'Low', 'Close', 'Volume'])\n",
    "        \n",
    "        # Write each row of historical data to the CSV file\n",
    "        for row in historical_data:\n",
    "            csv_writer.writerow(row)\n",
    "    \n",
    "    print(f\"Data saved to {csv_file_path}\")\n",
    "else:\n",
    "    print(\"Failed to fetch historical data\")\n"
   ]
  },
  {
   "cell_type": "code",
   "execution_count": null,
   "metadata": {},
   "outputs": [],
   "source": []
  }
 ],
 "metadata": {
  "kernelspec": {
   "display_name": "env",
   "language": "python",
   "name": "python3"
  },
  "language_info": {
   "codemirror_mode": {
    "name": "ipython",
    "version": 3
   },
   "file_extension": ".py",
   "mimetype": "text/x-python",
   "name": "python",
   "nbconvert_exporter": "python",
   "pygments_lexer": "ipython3",
   "version": "3.9.6"
  }
 },
 "nbformat": 4,
 "nbformat_minor": 2
}
