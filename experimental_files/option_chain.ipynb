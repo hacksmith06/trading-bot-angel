{
 "cells": [
  {
   "cell_type": "code",
   "execution_count": null,
   "metadata": {},
   "outputs": [],
   "source": [
    "import yfinance as yf\n",
    "\n",
    "# Define the ticker symbol\n",
    "ticker_symbol = \"AAPL\"\n",
    "\n",
    "# Fetch the ticker data\n",
    "ticker = yf.Ticker(ticker_symbol)\n",
    "\n",
    "# Get option chain for specific expiration date\n",
    "opt = ticker.option_chain('2023-01-20')\n",
    "print(opt.calls)\n",
    "print(opt.puts)"
   ]
  }
 ],
 "metadata": {
  "language_info": {
   "name": "python"
  }
 },
 "nbformat": 4,
 "nbformat_minor": 2
}
