{
 "cells": [
  {
   "cell_type": "code",
   "execution_count": 7,
   "metadata": {},
   "outputs": [
    {
     "name": "stdout",
     "output_type": "stream",
     "text": [
      "Failed to fetch historical data\n"
     ]
    }
   ],
   "source": [
    "# Import necessary functions and packages\n",
    "from auth import authenticate\n",
    "from fetching_token_option_index import get_token\n",
    "\n",
    "# Get authenticated smart_api and tokens from auth.py\n",
    "smart_api, auth_token, refresh_token, feed_token = authenticate()\n",
    "\n",
    "# Function to get historical candle data\n",
    "def get_historical_data():\n",
    "    try:\n",
    "        # Define the parameters\n",
    "        historic_param = {\n",
    "            \"exchange\": \"NSE\",\n",
    "            \"symboltoken\": \"3045\",\n",
    "            \"interval\": \"ONE_MINUTE\",\n",
    "            \"fromdate\": \"2021-02-08 09:00\",\n",
    "            \"todate\": \"2021-02-08 09:16\"\n",
    "        }\n",
    "\n",
    "        # Make the API request to fetch historical data\n",
    "        response = smart_api.getCandleData(historic_param)\n",
    "\n",
    "        # Check if the request was successful\n",
    "        if response['status'] == 'Success':\n",
    "            return response['data']  # Return the historical data\n",
    "        else:\n",
    "            return None  # Return None if the request failed\n",
    "\n",
    "    except Exception as e:\n",
    "        print(\"Historic API failed:\", str(e))\n",
    "        return None\n",
    "\n",
    "# Call the function to fetch historical data\n",
    "historical_data = get_historical_data()\n",
    "\n",
    "# Print the historical data or handle it as needed\n",
    "if historical_data is not None:\n",
    "    print(\"Historical data:\", historical_data)\n",
    "else:\n",
    "    print(\"Failed to fetch historical data\")\n",
    "\n",
    "# Remember to handle the data or errors appropriately based on your application's needs.\n"
   ]
  },
  {
   "cell_type": "code",
   "execution_count": null,
   "metadata": {},
   "outputs": [],
   "source": []
  }
 ],
 "metadata": {
  "kernelspec": {
   "display_name": "env",
   "language": "python",
   "name": "python3"
  },
  "language_info": {
   "codemirror_mode": {
    "name": "ipython",
    "version": 3
   },
   "file_extension": ".py",
   "mimetype": "text/x-python",
   "name": "python",
   "nbconvert_exporter": "python",
   "pygments_lexer": "ipython3",
   "version": "3.9.6"
  }
 },
 "nbformat": 4,
 "nbformat_minor": 2
}
