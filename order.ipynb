{
 "cells": [
  {
   "cell_type": "code",
   "execution_count": 66,
   "metadata": {},
   "outputs": [],
   "source": [
    "# Import necessary functions and packages\n",
    "from auth import authenticate\n",
    "from fetching_token_option_index import get_token\n",
    "\n",
    "# Get authenticated smart_api and tokens from auth.py\n",
    "smart_api, auth_token, refresh_token, feed_token = authenticate()"
   ]
  },
  {
   "cell_type": "code",
   "execution_count": 76,
   "metadata": {},
   "outputs": [],
   "source": [
    "import requests\n",
    "\n",
    "# Fetch the JSON data from the URL and load it once\n",
    "url = \"https://margincalculator.angelbroking.com/OpenAPI_File/files/OpenAPIScripMaster.json\"\n",
    "response = requests.get(url)\n",
    "data = response.json()\n",
    "\n",
    "def get_symbol_and_token(name):\n",
    "    # Initialize variables to store results\n",
    "    name = name\n",
    "    symbol = name + '-EQ'\n",
    "    token = None\n",
    "\n",
    "    # Filter the loaded data based on the name (equity symbol)\n",
    "    for item in data:\n",
    "        if item.get('name') == name and item.get('exch_seg') == \"NSE\":\n",
    "            token = get_token(item.get('symbol'))\n",
    "            break\n",
    "        elif item.get('name') == symbol and item.get('exch_seg') == \"NSE\":\n",
    "            token = get_token(item.get('symbol'))\n",
    "            break\n",
    "\n",
    "    return name,symbol,token\n",
    "\n",
    "def get_token(symbol):\n",
    "    # Filter the loaded data based on the symbol\n",
    "    for item in data:\n",
    "        if item.get('symbol') == symbol:\n",
    "            return item.get('token')\n",
    "    return None"
   ]
  },
  {
   "cell_type": "code",
   "execution_count": 77,
   "metadata": {},
   "outputs": [
    {
     "data": {
      "text/plain": [
       "('SBIN', 'SBIN-EQ', '12740')"
      ]
     },
     "execution_count": 77,
     "metadata": {},
     "output_type": "execute_result"
    }
   ],
   "source": [
    "get_symbol_and_token(\"SBIN\")"
   ]
  },
  {
   "cell_type": "code",
   "execution_count": 15,
   "metadata": {},
   "outputs": [
    {
     "name": "stdout",
     "output_type": "stream",
     "text": [
      "The order id is: 231030000990050\n"
     ]
    }
   ],
   "source": [
    "#place order\n",
    "try:\n",
    "    orderparams = {\n",
    "        \"variety\": \"NORMAL\",\n",
    "        \"tradingsymbol\": \"SBIN-EQ\",\n",
    "        \"symboltoken\": \"3045\",\n",
    "        \"transactiontype\": \"BUY\",\n",
    "        \"exchange\": \"NSE\",\n",
    "        \"ordertype\": \"LIMIT\",\n",
    "        \"producttype\": \"INTRADAY\",\n",
    "        \"duration\": \"DAY\",\n",
    "        \"price\": \"563\",\n",
    "        \"squareoff\": \"0\",\n",
    "        \"stoploss\": \"0\",\n",
    "        \"quantity\": \"1\"\n",
    "        }\n",
    "    orderId=smart_api.placeOrder(orderparams)\n",
    "    print(\"The order id is: {}\".format(orderId))\n",
    "except Exception as e:\n",
    "    print(\"Order placement failed: {}\".format(e.message))"
   ]
  },
  {
   "cell_type": "code",
   "execution_count": 29,
   "metadata": {},
   "outputs": [
    {
     "name": "stdout",
     "output_type": "stream",
     "text": [
      "The order id is: 231030001028768\n"
     ]
    }
   ],
   "source": [
    "#place order\n",
    "try:\n",
    "    orderparams = {\n",
    "        \"variety\": \"ROBO\",\n",
    "        \"tradingsymbol\": \"PNB-EQ\",\n",
    "        \"symboltoken\": \"10666\",\n",
    "        \"transactiontype\": \"BUY\",\n",
    "        \"exchange\": \"NSE\",\n",
    "        \"ordertype\": \"LIMIT\",\n",
    "        \"producttype\": \"INTRADAY\",\n",
    "        \"duration\": \"DAY\",\n",
    "        \"price\": \"73\",\n",
    "        \"squareoff\": \"2\",\n",
    "        \"stoploss\": \"2\",\n",
    "        \"quantity\": \"1\"\n",
    "        }\n",
    "    orderId=smart_api.placeOrder(orderparams)\n",
    "    print(\"The order id is: {}\".format(orderId))\n",
    "except Exception as e:\n",
    "    print(\"Order placement failed: {}\".format(e.message))"
   ]
  },
  {
   "cell_type": "code",
   "execution_count": 25,
   "metadata": {},
   "outputs": [
    {
     "name": "stdout",
     "output_type": "stream",
     "text": [
      "The order id is: 231030001023885\n"
     ]
    }
   ],
   "source": [
    "#place order\n",
    "try:\n",
    "    orderparams = {\n",
    "        \"variety\": \"NORMAL\",\n",
    "        \"tradingsymbol\": \"TATAMOTORS-BL\",\n",
    "        \"symboltoken\": \"12817\",\n",
    "        \"transactiontype\": \"BUY\",\n",
    "        \"exchange\": \"NSE\",\n",
    "        \"ordertype\": \"LIMIT\",\n",
    "        \"producttype\": \"INTRADAY\",\n",
    "        \"duration\": \"DAY\",\n",
    "        \"price\": \"629\",\n",
    "        \"squareoff\": \"0\",\n",
    "        \"stoploss\": \"0\",\n",
    "        \"quantity\": \"1\"\n",
    "        }\n",
    "    orderId=smart_api.placeOrder(orderparams)\n",
    "    print(\"The order id is: {}\".format(orderId))\n",
    "except Exception as e:\n",
    "    print(\"Order placement failed: {}\".format(e.message))"
   ]
  },
  {
   "cell_type": "code",
   "execution_count": 28,
   "metadata": {},
   "outputs": [
    {
     "name": "stdout",
     "output_type": "stream",
     "text": [
      "The order id is: 231030001027752\n"
     ]
    }
   ],
   "source": [
    "#place order\n",
    "try:\n",
    "    orderparams = {\n",
    "        \"variety\": \"NORMAL\",\n",
    "        \"tradingsymbol\": \"UCOBANK-BL\",\n",
    "        \"symboltoken\": \"12853\",\n",
    "        \"transactiontype\": \"BUY\",\n",
    "        \"exchange\": \"NSE\",\n",
    "        \"ordertype\": \"LIMIT\",\n",
    "        \"producttype\": \"INTRADAY\",\n",
    "        \"duration\": \"DAY\",\n",
    "        \"price\": \"37.10\",\n",
    "        \"squareoff\": \"0\",\n",
    "        \"stoploss\": \"0\",\n",
    "        \"quantity\": \"1\"\n",
    "        }\n",
    "    orderId=smart_api.placeOrder(orderparams)\n",
    "    print(\"The order id is: {}\".format(orderId))\n",
    "except Exception as e:\n",
    "    print(\"Order placement failed: {}\".format(e.message))"
   ]
  },
  {
   "cell_type": "code",
   "execution_count": 35,
   "metadata": {},
   "outputs": [],
   "source": [
    "import requests\n",
    "\n",
    "# Fetch the JSON data from the URL and load it once\n",
    "url = \"https://margincalculator.angelbroking.com/OpenAPI_File/files/OpenAPIScripMaster.json\"\n",
    "response = requests.get(url)\n",
    "data = response.json()\n",
    "\n",
    "def get_token_option(name, expiry, strike_and_option_type):\n",
    "    # Construct the symbol based on the input\n",
    "    symbol_pattern = f\"{name}{expiry}{strike_and_option_type}\"\n",
    "\n",
    "    # Filter the loaded data based on the constructed symbol\n",
    "    for item in data:\n",
    "        if item.get('symbol') == symbol_pattern:\n",
    "            return item.get('token'), item.get('symbol')\n",
    "    return None, None\n"
   ]
  },
  {
   "cell_type": "code",
   "execution_count": 64,
   "metadata": {},
   "outputs": [],
   "source": [
    "# Fetch the stock token using the get_token function\n",
    "name = \"BANKNIFTY\"\n",
    "expiry = \"01NOV23\"\n",
    "strike_and_option_type = \"42400PE\""
   ]
  },
  {
   "cell_type": "code",
   "execution_count": 65,
   "metadata": {},
   "outputs": [
    {
     "name": "stdout",
     "output_type": "stream",
     "text": [
      "BANKNIFTY01NOV2342400PE\n",
      "47948\n",
      "BANKNIFTY01NOV2342400PE\n"
     ]
    }
   ],
   "source": [
    "token,symbol = get_token_option(name,expiry,strike_and_option_type)\n",
    "print(token)\n",
    "print(symbol)"
   ]
  },
  {
   "cell_type": "code",
   "execution_count": 62,
   "metadata": {},
   "outputs": [
    {
     "name": "stdout",
     "output_type": "stream",
     "text": [
      "The order id is: 231030001072726\n"
     ]
    }
   ],
   "source": [
    "#place order\n",
    "try:\n",
    "    orderparams = {\n",
    "        \"variety\": \"ROBO\",\n",
    "        \"tradingsymbol\": symbol,\n",
    "        \"symboltoken\": token,\n",
    "        \"transactiontype\": \"BUY\",\n",
    "        \"exchange\": \"NFO\",\n",
    "        \"ordertype\": \"LIMIT\",\n",
    "        \"producttype\": \"INTRADAY\",\n",
    "        \"duration\": \"DAY\",\n",
    "        \"price\": \"53\",\n",
    "        \"squareoff\": \"2\",\n",
    "        \"stoploss\": \"1\",\n",
    "        \"quantity\": \"15\"\n",
    "        }\n",
    "    orderId=smart_api.placeOrder(orderparams)\n",
    "    print(\"The order id is: {}\".format(orderId))\n",
    "except Exception as e:\n",
    "    print(\"Order placement failed: {}\".format(e.message))"
   ]
  },
  {
   "cell_type": "code",
   "execution_count": 5,
   "metadata": {},
   "outputs": [
    {
     "name": "stdout",
     "output_type": "stream",
     "text": [
      "LTP for the given option: 882.95\n"
     ]
    }
   ],
   "source": [
    "import requests\n",
    "from SmartApi.smartConnect import SmartConnect\n",
    "from auth import authenticate\n",
    "import json\n",
    "\n",
    "# Read configuration from JSON file\n",
    "with open(\"config_files/config-vidya.json\", \"r\") as config_file:\n",
    "    config = json.load(config_file)\n",
    "\n",
    "# Function to fetch the LTP data\n",
    "def fetch_ltp_data(smart_api, exchange, tradingsymbol, symboltoken):\n",
    "    # Fetch the LTP data using the ltpData method\n",
    "    ltp_response = smart_api.ltpData(exchange, tradingsymbol, symboltoken)\n",
    "    return ltp_response\n",
    "\n",
    "# Function to fetch the token for a given option\n",
    "def get_token_option(name, expiry, strike_and_option_type):\n",
    "    url = \"https://margincalculator.angelbroking.com/OpenAPI_File/files/OpenAPIScripMaster.json\"\n",
    "    response = requests.get(url)\n",
    "    data = response.json()\n",
    "    symbol_pattern = f\"{name}{expiry}{strike_and_option_type}\"\n",
    "    for item in data:\n",
    "        if item.get('symbol') == symbol_pattern:\n",
    "            return item.get('token'), item.get('symbol')\n",
    "    return None, None\n",
    "\n",
    "# Function to check the LTP data\n",
    "def check_ltp_data(name, expiry, strike_and_option_type):\n",
    "    smart_api, auth_token, refresh_token, feed_token = authenticate()\n",
    "    token, symbol = get_token_option(name, expiry, strike_and_option_type)\n",
    "    if token:\n",
    "        ltp_data = fetch_ltp_data(smart_api, \"NFO\", symbol, token)\n",
    "        ltp_value = ltp_data.get('data', {}).get('ltp', None)\n",
    "        if ltp_value:\n",
    "            print(\"LTP for the given option:\", ltp_value)\n",
    "        else:\n",
    "            print(\"LTP not found in the response.\")\n",
    "    else:\n",
    "        print(\"Token not found for the given option.\")\n",
    "\n",
    "\n",
    "name = config[\"name\"]\n",
    "expiry = config[\"expiry\"]\n",
    "strike_and_option_type = config[\"strike_and_option_type\"]\n",
    "check_ltp_data(name, expiry, strike_and_option_type)\n"
   ]
  },
  {
   "cell_type": "code",
   "execution_count": null,
   "metadata": {},
   "outputs": [],
   "source": []
  }
 ],
 "metadata": {
  "kernelspec": {
   "display_name": "env",
   "language": "python",
   "name": "python3"
  },
  "language_info": {
   "codemirror_mode": {
    "name": "ipython",
    "version": 3
   },
   "file_extension": ".py",
   "mimetype": "text/x-python",
   "name": "python",
   "nbconvert_exporter": "python",
   "pygments_lexer": "ipython3",
   "version": "3.9.6"
  }
 },
 "nbformat": 4,
 "nbformat_minor": 2
}
